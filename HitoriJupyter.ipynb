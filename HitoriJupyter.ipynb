{
 "cells": [
  {
   "cell_type": "code",
   "execution_count": 1,
   "metadata": {},
   "outputs": [],
   "source": [
    "import numpy as np\n",
    "import problema_espacio_estados as probee\n",
    "import búsqueda_espacio_estados as búsqee\n",
    "import copy\n",
    "from tkinter import *\n",
    "from tkinter import ttk\n",
    "import random"
   ]
  },
  {
   "cell_type": "code",
   "execution_count": 2,
   "metadata": {},
   "outputs": [],
   "source": [
    "def leerTxt(archivo):\n",
    "    for line in archivo.readlines():\n",
    "        if(line != \"\\n\"):\n",
    "            matriz =[[ ]]\n",
    "            i = 0\n",
    "            for k in range(len(line)):\n",
    "                anterior=line[k-1]\n",
    "                actual=line[k]\n",
    "                if actual == \",\" and anterior == \"]\":\n",
    "                    matriz.append([])\n",
    "                    i = i+1\n",
    "\n",
    "                if actual != \"[\" and actual != \"]\" and actual != \",\" and actual != \"\\n\": \n",
    "                    matriz[i].append(int(actual))               \n",
    "            array_1.append(matriz)\n",
    "    archivo.close()\n",
    "    \n",
    "def solucion(matrizOr,solucion):\n",
    "    for x in range(len(solucion)):\n",
    "        i = int(solucion[x][34])\n",
    "        j = int(solucion[x][46])\n",
    "        matrizOr[i][j] = 0"
   ]
  },
  {
   "cell_type": "code",
   "execution_count": 3,
   "metadata": {},
   "outputs": [],
   "source": [
    "class InterfazGrafica():\n",
    "    def __init__(self,matriz,matrizSol):\n",
    "        self.raiz = Tk()\n",
    "        self.raiz.geometry('600x400')\n",
    "        self.raiz.configure(bg = 'beige')\n",
    "        self.raiz.resizable(width=False,height=False)\n",
    "        self.raiz.title('Hitori')\n",
    "        \n",
    "        self.tinfo = Text(self.raiz, width=60, height=20)\n",
    "        \n",
    "        self.tinfo.pack(side=TOP)\n",
    "        self.binfo = ttk.Button(self.raiz, text='Info', command=self.verinfo(matriz,matrizSol))\n",
    "        \n",
    "        self.binfo.pack(side=LEFT)\n",
    "        self.bsalir = ttk.Button(self.raiz, text='Salir', command=self.raiz.destroy)\n",
    "                                 \n",
    "        self.bsalir.pack(side=RIGHT)\n",
    "        self.raiz.mainloop()\n",
    "    \n",
    "    def verinfo(self,matriz,matrizSol):\n",
    "       \n",
    "        self.tinfo.delete(\"1.0\", END)\n",
    "        widt = len(matriz)\n",
    "        height = len(matriz[0])\n",
    "        info1 = matriz\n",
    "        info2 = matrizSol\n",
    "        # Construye una cadena de texto con toda la\n",
    "        # información obtenida:\n",
    "        \n",
    "        texto_info = \"Tamaño de la matriz: \" + str(widt) + \" x \" + str(height) + \"\\n\" \n",
    "        texto_info += \"Matriz: \\n\" \n",
    "        for i in range(widt):\n",
    "            for j in range (height):\n",
    "                texto_info += \" | \"+str(int(info1[i][j]))\n",
    "            texto_info += \"\\n\"\n",
    "        texto_info += \"\\nSolución: \\n\"\n",
    "        for i in range(widt):\n",
    "            for j in range (height):\n",
    "                if(info2[i][j] != 0):\n",
    "                    texto_info += \" | \"+str(int(info2[i][j]))\n",
    "                else:\n",
    "                    texto_info += \" | N\"\n",
    "            texto_info += \"\\n\"\n",
    "        \n",
    "        # Inserta la información en la caja de texto:\n",
    "        \n",
    "        self.tinfo.insert(\"1.0\", texto_info)"
   ]
  },
  {
   "cell_type": "code",
   "execution_count": 4,
   "metadata": {},
   "outputs": [],
   "source": [
    "def aplicabilidadVecinos(estado,i,j):\n",
    "    widt = len(estado)\n",
    "    height = len(estado[0])\n",
    "    if(j-1 >= 0):\n",
    "        if(estado[i][j - 1] == 0):\n",
    "            return False\n",
    "    if(j+1 <= height-1):\n",
    "        if(estado[i][j + 1] == 0):\n",
    "            return False\n",
    "    if(i+1 <= widt-1):\n",
    "        if(estado[i + 1][j] == 0):\n",
    "            return False\n",
    "    if(i-1 >= 0):\n",
    "        if(estado[i - 1][j] == 0):\n",
    "            return False\n",
    "    return True\n",
    "    \n",
    "def repetido(estado,i,j):\n",
    "    widt = len(estado)\n",
    "    height = len(estado[0])\n",
    "    for x in range(widt):\n",
    "        if(estado[i][j] == estado[x][j] and estado[i][j] != 0 and i!=x):\n",
    "            return True\n",
    "    for y in range(height):\n",
    "        if(estado[i][j] == estado[i][y] and estado[i][j] != 0 and j!=y):\n",
    "            return True\n",
    "    return False\n",
    "\n",
    "def aplicable(estado):\n",
    "    return aplicabilidadVecinos(estado,2,2) and repetido(estado,2,2)\n",
    "\n",
    "def ponerNegro(estado,i,j):\n",
    "    estado[i][j] = 0\n",
    "\n",
    "def aplicar(estado):\n",
    "    nuevo_estado = copy.deepcopy(estado)\n",
    "    ponerNegro(nuevo_estado,2,2)\n",
    "    return nuevo_estado\n",
    "\n",
    "C22 = probee.Acción('Marcar el numero que esta en fila 2 y columna 2',aplicable,aplicar)"
   ]
  },
  {
   "cell_type": "code",
   "execution_count": 5,
   "metadata": {},
   "outputs": [],
   "source": [
    "class cambiarCelda(probee.Acción):\n",
    "    def __init__(self, i, j, height, widt):\n",
    "        nombre = 'Marcar el numero que esta en fila {} y columna {}'.format(i,j)\n",
    "        super().__init__(nombre)\n",
    "        self.i = i\n",
    "        self.j = j\n",
    "        self.height = height\n",
    "        self.widt = widt\n",
    "\n",
    "    def aplicabilidadVecinos(self,estado,i,j,height,widt):\n",
    "        if(j-1 >= 0):\n",
    "            if(estado[i][j - 1] == 0):\n",
    "                return False\n",
    "        if(j+1 <= height-1):\n",
    "            if(estado[i][j + 1] == 0):\n",
    "                return False\n",
    "        if(i+1 <= widt-1):\n",
    "            if(estado[i + 1][j] == 0):\n",
    "                return False\n",
    "        if(i-1 >= 0):\n",
    "            if(estado[i - 1][j] == 0):\n",
    "                return False\n",
    "        return True\n",
    "    \n",
    "    def repetido(self,estado,i,j,widt,height):\n",
    "        for x in range(widt):\n",
    "            if(estado[i][j] == estado[x][j] and estado[i][j] != 0 and i!=x):\n",
    "                return True\n",
    "        for y in range(height):\n",
    "            if(estado[i][j] == estado[i][y] and estado[i][j] != 0 and j!=y):\n",
    "                return True\n",
    "        return False\n",
    "    \n",
    "    def es_aplicable(self,estado):\n",
    "        return (self.aplicabilidadVecinos(estado,self.i,self.j,self.height,self.widt) and\n",
    "                self.repetido(estado,self.i,self.j,self.widt,self.height))\n",
    "\n",
    "    def ponerNegro(self,estado,i,j):\n",
    "        estado[i][j] = 0\n",
    "\n",
    "    def aplicar(self,estado):\n",
    "        nuevo_estado = copy.deepcopy(estado)\n",
    "        self.ponerNegro(nuevo_estado,self.i,self.j)\n",
    "        return nuevo_estado"
   ]
  },
  {
   "cell_type": "code",
   "execution_count": 6,
   "metadata": {},
   "outputs": [],
   "source": [
    "class Hitori(probee.ProblemaEspacioEstados):\n",
    "    def __init__(self,matriz,widt,height):\n",
    "        acciones = [cambiarCelda(i,j,height,widt) for i in range(widt) for j in range(height)]\n",
    "        estado_inicial = matriz\n",
    "        super().__init__(acciones,estado_inicial)\n",
    "        self.matriz = matriz\n",
    "        self.height = height\n",
    "        self.widt = widt\n",
    "    \n",
    "    def celdaLibre(self,estado):\n",
    "        pos = []\n",
    "        for j in range(len(estado[0])):\n",
    "            if estado[0][j] != 0:\n",
    "                pos.append(0)\n",
    "                pos.append(j)\n",
    "                return pos\n",
    "            \n",
    "    def recorrer(self,estado):\n",
    "        posIni = self.celdaLibre(estado)\n",
    "        visitados = []\n",
    "        self.recorrerConexos(posIni,visitados,estado,self.widt,self.height)\n",
    "        return visitados\n",
    "    \n",
    "    def recorrerConexos(self,pos,visitados,estado,widt,height):\n",
    "        i = pos[0]\n",
    "        j = pos[1]\n",
    "        visitados.append(pos)\n",
    "        if(i+1 < widt):\n",
    "            if(estado[i+1][j] != 0 and [i+1,j] not in visitados):\n",
    "                pos = [i+1,j]\n",
    "                self.recorrerConexos(pos,visitados,estado,widt,height)\n",
    "        if(i-1 >= 0):\n",
    "            if(estado[i-1][j] != 0 and [i-1,j] not in visitados):\n",
    "                pos = [i-1,j]\n",
    "                self.recorrerConexos(pos,visitados,estado,widt,height)\n",
    "        if(j+1 < height):\n",
    "            if(estado[i][j+1] != 0 and [i,j+1] not in visitados):\n",
    "                pos = [i,j+1]\n",
    "                self.recorrerConexos(pos,visitados,estado,widt,height)\n",
    "        if(j-1 >= 0):\n",
    "            if(estado[i][j-1] != 0 and [i,j-1] not in visitados):\n",
    "                pos = [i,j-1]\n",
    "                self.recorrerConexos(pos,visitados,estado,widt,height)\n",
    "    \n",
    "    def matrizConexa(self,estado,widt,height):\n",
    "        visitados = self.recorrer(estado)\n",
    "        celdasBlancas = len(visitados)\n",
    "        celdasNegras = 0\n",
    "        for i in range(widt):\n",
    "            for j in range(height):\n",
    "                if(estado[i][j] == 0):\n",
    "                    celdasNegras = celdasNegras + 1\n",
    "        if(celdasBlancas + celdasNegras == widt*height):\n",
    "            return True\n",
    "        return False\n",
    "    \n",
    "    def no_repetidoF(self,matriz):\n",
    "        for i in range(self.widt):\n",
    "            for j in range(self.height):                  \n",
    "                for k in range(self.height):\n",
    "                    if(matriz[i][j] == matriz[i][k] and j != k and matriz[i][j] != 0):\n",
    "                        return False\n",
    "        return True\n",
    "    \n",
    "    def no_repetidoC(self,matriz):\n",
    "        for j in range(self.height):\n",
    "            for i in range(self.widt):                  \n",
    "                for k in range(self.widt):                \n",
    "                    if(matriz[i][j] == matriz[k][j] and i != k and matriz[k][j] != 0):\n",
    "                        return False\n",
    "        return True\n",
    "    \n",
    "    def es_estado_final(self,estado):\n",
    "        return self.matrizConexa(estado,self.widt,self.height) and self.no_repetidoF(estado) and self.no_repetidoC(estado)"
   ]
  },
  {
   "cell_type": "code",
   "execution_count": 7,
   "metadata": {},
   "outputs": [],
   "source": [
    "array_1 = [ ]\n",
    "archivo = open('ejemplos_prueba.txt','r')\n",
    "leerTxt(archivo)"
   ]
  },
  {
   "cell_type": "code",
   "execution_count": 9,
   "metadata": {},
   "outputs": [],
   "source": [
    "matriz=array_1[8]\n",
    "estadoIni = copy.deepcopy(matriz)\n",
    "estadoFinal=copy.deepcopy(matriz)\n",
    "\n",
    "widt = len(estadoIni)\n",
    "height = len(estadoIni[0])"
   ]
  },
  {
   "cell_type": "code",
   "execution_count": 10,
   "metadata": {},
   "outputs": [],
   "source": [
    "Hitori_marcar_celdas = Hitori(estadoIni,widt,height)"
   ]
  },
  {
   "cell_type": "code",
   "execution_count": 11,
   "metadata": {},
   "outputs": [
    {
     "data": {
      "text/plain": [
       "True"
      ]
     },
     "execution_count": 11,
     "metadata": {},
     "output_type": "execute_result"
    }
   ],
   "source": [
    "C22.es_aplicable(estadoIni)"
   ]
  },
  {
   "cell_type": "code",
   "execution_count": 12,
   "metadata": {},
   "outputs": [
    {
     "data": {
      "text/plain": [
       "False"
      ]
     },
     "execution_count": 12,
     "metadata": {},
     "output_type": "execute_result"
    }
   ],
   "source": [
    "Hitori_marcar_celdas.es_estado_final(C22.aplicar(estadoIni))"
   ]
  },
  {
   "cell_type": "code",
   "execution_count": 13,
   "metadata": {},
   "outputs": [
    {
     "data": {
      "text/plain": [
       "False"
      ]
     },
     "execution_count": 13,
     "metadata": {},
     "output_type": "execute_result"
    }
   ],
   "source": [
    "Hitori_marcar_celdas.es_estado_final(estadoIni)"
   ]
  },
  {
   "cell_type": "code",
   "execution_count": 14,
   "metadata": {},
   "outputs": [],
   "source": [
    "b_profundidad = búsqee.BúsquedaEnProfundidad(detallado=False)"
   ]
  },
  {
   "cell_type": "code",
   "execution_count": 15,
   "metadata": {},
   "outputs": [],
   "source": [
    "b_anchura = búsqee.BúsquedaEnAnchura(detallado=False)"
   ]
  },
  {
   "cell_type": "code",
   "execution_count": 16,
   "metadata": {},
   "outputs": [],
   "source": [
    "b_óptima = búsqee.BúsquedaÓptima()"
   ]
  },
  {
   "cell_type": "code",
   "execution_count": 17,
   "metadata": {},
   "outputs": [
    {
     "name": "stdout",
     "output_type": "stream",
     "text": [
      "1.46 ms ± 0 ns per loop (mean ± std. dev. of 1 run, 1 loop each)\n"
     ]
    }
   ],
   "source": [
    "%%timeit -n1 -r1\n",
    "b_profundidad.buscar(Hitori_marcar_celdas)"
   ]
  },
  {
   "cell_type": "code",
   "execution_count": 18,
   "metadata": {},
   "outputs": [
    {
     "name": "stdout",
     "output_type": "stream",
     "text": [
      "10.3 ms ± 0 ns per loop (mean ± std. dev. of 1 run, 1 loop each)\n"
     ]
    }
   ],
   "source": [
    "%%timeit -n1 -r1\n",
    "b_anchura.buscar(Hitori_marcar_celdas)"
   ]
  },
  {
   "cell_type": "code",
   "execution_count": 19,
   "metadata": {},
   "outputs": [],
   "source": [
    "cambio = b_profundidad.buscar(Hitori_marcar_celdas)"
   ]
  },
  {
   "cell_type": "code",
   "execution_count": 20,
   "metadata": {},
   "outputs": [],
   "source": [
    "solucion(estadoFinal,cambio)"
   ]
  },
  {
   "cell_type": "code",
   "execution_count": 21,
   "metadata": {},
   "outputs": [],
   "source": [
    "interfaz = InterfazGrafica(estadoIni,estadoFinal)"
   ]
  },
  {
   "cell_type": "code",
   "execution_count": 22,
   "metadata": {},
   "outputs": [
    {
     "name": "stdout",
     "output_type": "stream",
     "text": [
      "10.8 ms ± 0 ns per loop (mean ± std. dev. of 1 run, 1 loop each)\n"
     ]
    }
   ],
   "source": [
    "%%timeit -n1 -r1\n",
    "b_óptima.buscar(Hitori_marcar_celdas)"
   ]
  },
  {
   "cell_type": "code",
   "execution_count": null,
   "metadata": {},
   "outputs": [],
   "source": []
  }
 ],
 "metadata": {
  "kernelspec": {
   "display_name": "Python 3",
   "language": "python",
   "name": "python3"
  },
  "language_info": {
   "codemirror_mode": {
    "name": "ipython",
    "version": 3
   },
   "file_extension": ".py",
   "mimetype": "text/x-python",
   "name": "python",
   "nbconvert_exporter": "python",
   "pygments_lexer": "ipython3",
   "version": "3.7.1"
  }
 },
 "nbformat": 4,
 "nbformat_minor": 2
}
